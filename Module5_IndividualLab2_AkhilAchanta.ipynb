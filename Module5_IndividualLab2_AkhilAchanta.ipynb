{
  "nbformat": 4,
  "nbformat_minor": 0,
  "metadata": {
    "colab": {
      "provenance": [],
      "authorship_tag": "ABX9TyPQdDcme7zW4MvGAP/7kK1r",
      "include_colab_link": true
    },
    "kernelspec": {
      "name": "python3",
      "display_name": "Python 3"
    },
    "language_info": {
      "name": "python"
    }
  },
  "cells": [
    {
      "cell_type": "markdown",
      "metadata": {
        "id": "view-in-github",
        "colab_type": "text"
      },
      "source": [
        "<a href=\"https://colab.research.google.com/github/akhil1297/akhil1297/blob/main/Module5_IndividualLab2_AkhilAchanta.ipynb\" target=\"_parent\"><img src=\"https://colab.research.google.com/assets/colab-badge.svg\" alt=\"Open In Colab\"/></a>"
      ]
    },
    {
      "cell_type": "code",
      "execution_count": null,
      "metadata": {
        "colab": {
          "base_uri": "https://localhost:8080/"
        },
        "id": "WB6bfxOdKirY",
        "outputId": "d7189125-323b-4080-884e-ac9659cc28d9"
      },
      "outputs": [
        {
          "output_type": "stream",
          "name": "stdout",
          "text": [
            "Collecting pyspark\n",
            "  Downloading pyspark-3.5.1.tar.gz (317.0 MB)\n",
            "\u001b[2K     \u001b[90m━━━━━━━━━━━━━━━━━━━━━━━━━━━━━━━━━━━━━━━━\u001b[0m \u001b[32m317.0/317.0 MB\u001b[0m \u001b[31m2.3 MB/s\u001b[0m eta \u001b[36m0:00:00\u001b[0m\n",
            "\u001b[?25h  Preparing metadata (setup.py) ... \u001b[?25l\u001b[?25hdone\n",
            "Requirement already satisfied: py4j==0.10.9.7 in /usr/local/lib/python3.10/dist-packages (from pyspark) (0.10.9.7)\n",
            "Building wheels for collected packages: pyspark\n",
            "  Building wheel for pyspark (setup.py) ... \u001b[?25l\u001b[?25hdone\n",
            "  Created wheel for pyspark: filename=pyspark-3.5.1-py2.py3-none-any.whl size=317488491 sha256=aea5efb8f5cc9c0b19b8d920c969bbe881eec6d11bdfde60f4d46aa359d0cde7\n",
            "  Stored in directory: /root/.cache/pip/wheels/80/1d/60/2c256ed38dddce2fdd93be545214a63e02fbd8d74fb0b7f3a6\n",
            "Successfully built pyspark\n",
            "Installing collected packages: pyspark\n",
            "Successfully installed pyspark-3.5.1\n"
          ]
        }
      ],
      "source": [
        "!pip install pyspark"
      ]
    },
    {
      "cell_type": "code",
      "source": [
        "# Initialize Spark session\n",
        "spark = SparkSession.builder.appName(\"BostonHousing\").getOrCreate()\n",
        "\n",
        "# Assuming 'file_path' is the path to your CSV file in Google Colab\n",
        "file_path = \"/content/BostonHousing.csv\"\n",
        "\n",
        "# Read CSV file into a PySpark DataFrame\n",
        "boston = spark.read.csv(file_path, header=True, inferSchema=True)\n",
        "\n",
        "# Show the first few rows of the DataFrame to verify it loaded correctly\n",
        "boston.show()"
      ],
      "metadata": {
        "colab": {
          "base_uri": "https://localhost:8080/"
        },
        "id": "7BPy-wpHKqXm",
        "outputId": "bac64a03-d51e-4636-d154-9f90a647b942"
      },
      "execution_count": null,
      "outputs": [
        {
          "output_type": "stream",
          "name": "stdout",
          "text": [
            "+-------+----+-----+----+-----+-----+-----+------+---+---+-------+------+-----+----+\n",
            "|   crim|  zn|indus|chas|  nox|   rm|  age|   dis|rad|tax|ptratio|     b|lstat|medv|\n",
            "+-------+----+-----+----+-----+-----+-----+------+---+---+-------+------+-----+----+\n",
            "|0.00632|18.0| 2.31|   0|0.538|6.575| 65.2|  4.09|  1|296|   15.3| 396.9| 4.98|24.0|\n",
            "|0.02731| 0.0| 7.07|   0|0.469|6.421| 78.9|4.9671|  2|242|   17.8| 396.9| 9.14|21.6|\n",
            "|0.02729| 0.0| 7.07|   0|0.469|7.185| 61.1|4.9671|  2|242|   17.8|392.83| 4.03|34.7|\n",
            "|0.03237| 0.0| 2.18|   0|0.458|6.998| 45.8|6.0622|  3|222|   18.7|394.63| 2.94|33.4|\n",
            "|0.06905| 0.0| 2.18|   0|0.458|7.147| 54.2|6.0622|  3|222|   18.7| 396.9| 5.33|36.2|\n",
            "|0.02985| 0.0| 2.18|   0|0.458| 6.43| 58.7|6.0622|  3|222|   18.7|394.12| 5.21|28.7|\n",
            "|0.08829|12.5| 7.87|   0|0.524|6.012| 66.6|5.5605|  5|311|   15.2| 395.6|12.43|22.9|\n",
            "|0.14455|12.5| 7.87|   0|0.524|6.172| 96.1|5.9505|  5|311|   15.2| 396.9|19.15|27.1|\n",
            "|0.21124|12.5| 7.87|   0|0.524|5.631|100.0|6.0821|  5|311|   15.2|386.63|29.93|16.5|\n",
            "|0.17004|12.5| 7.87|   0|0.524|6.004| 85.9|6.5921|  5|311|   15.2|386.71| 17.1|18.9|\n",
            "|0.22489|12.5| 7.87|   0|0.524|6.377| 94.3|6.3467|  5|311|   15.2|392.52|20.45|15.0|\n",
            "|0.11747|12.5| 7.87|   0|0.524|6.009| 82.9|6.2267|  5|311|   15.2| 396.9|13.27|18.9|\n",
            "|0.09378|12.5| 7.87|   0|0.524|5.889| 39.0|5.4509|  5|311|   15.2| 390.5|15.71|21.7|\n",
            "|0.62976| 0.0| 8.14|   0|0.538|5.949| 61.8|4.7075|  4|307|   21.0| 396.9| 8.26|20.4|\n",
            "|0.63796| 0.0| 8.14|   0|0.538|6.096| 84.5|4.4619|  4|307|   21.0|380.02|10.26|18.2|\n",
            "|0.62739| 0.0| 8.14|   0|0.538|5.834| 56.5|4.4986|  4|307|   21.0|395.62| 8.47|19.9|\n",
            "|1.05393| 0.0| 8.14|   0|0.538|5.935| 29.3|4.4986|  4|307|   21.0|386.85| 6.58|23.1|\n",
            "| 0.7842| 0.0| 8.14|   0|0.538| 5.99| 81.7|4.2579|  4|307|   21.0|386.75|14.67|17.5|\n",
            "|0.80271| 0.0| 8.14|   0|0.538|5.456| 36.6|3.7965|  4|307|   21.0|288.99|11.69|20.2|\n",
            "| 0.7258| 0.0| 8.14|   0|0.538|5.727| 69.5|3.7965|  4|307|   21.0|390.95|11.28|18.2|\n",
            "+-------+----+-----+----+-----+-----+-----+------+---+---+-------+------+-----+----+\n",
            "only showing top 20 rows\n",
            "\n"
          ]
        }
      ]
    },
    {
      "cell_type": "code",
      "source": [
        "boston = boston.dropna()"
      ],
      "metadata": {
        "id": "bUy6ZMIOKt2P"
      },
      "execution_count": null,
      "outputs": []
    },
    {
      "cell_type": "code",
      "source": [
        "boston.head()"
      ],
      "metadata": {
        "colab": {
          "base_uri": "https://localhost:8080/"
        },
        "id": "lzp_GXVIK0LJ",
        "outputId": "1bd173ab-27c8-459a-d753-3ea801fb1a06"
      },
      "execution_count": null,
      "outputs": [
        {
          "output_type": "execute_result",
          "data": {
            "text/plain": [
              "Row(crim=0.00632, zn=18.0, indus=2.31, chas=0, nox=0.538, rm=6.575, age=65.2, dis=4.09, rad=1, tax=296, ptratio=15.3, b=396.9, lstat=4.98, medv=24.0)"
            ]
          },
          "metadata": {},
          "execution_count": 31
        }
      ]
    },
    {
      "cell_type": "code",
      "source": [
        "#Loading the required packages\n",
        "from pyspark.sql import SparkSession\n",
        "import pandas as pd\n",
        "import numpy as np\n",
        "import matplotlib.pyplot as plt\n",
        "from pyspark.ml.feature import VectorAssembler, StandardScaler, PCA\n",
        "from pyspark.ml.regression import LinearRegression\n"
      ],
      "metadata": {
        "id": "31AGQkgYPDRc"
      },
      "execution_count": null,
      "outputs": []
    },
    {
      "cell_type": "code",
      "source": [
        "from pyspark.sql import SparkSession\n",
        "from pyspark.ml.feature import VectorAssembler\n"
      ],
      "metadata": {
        "id": "szj0oUgqk7_F"
      },
      "execution_count": null,
      "outputs": []
    },
    {
      "cell_type": "code",
      "source": [
        "#Initialize Spark session\n",
        "spark = SparkSession.builder.appName(\"BostonHousing\").getOrCreate()"
      ],
      "metadata": {
        "id": "yJeiu_65aevG"
      },
      "execution_count": null,
      "outputs": []
    },
    {
      "cell_type": "code",
      "source": [
        "#Q3\n",
        "#List of feature columns (excluding the target 'medv')\n",
        "feature_columns = boston.columns[:-1]\n",
        "\n",
        "#Initialize VectorAssembler\n",
        "assembler = VectorAssembler(inputCols=feature_columns, outputCol=\"features\")\n",
        "\n",
        "#Transform the DataFrame\n",
        "assembled_boston = assembler.transform(boston)\n",
        "\n",
        "#Show the transformed DataFrame\n",
        "assembled_boston.select(\"features\", \"medv\").show()"
      ],
      "metadata": {
        "colab": {
          "base_uri": "https://localhost:8080/"
        },
        "id": "3jKxU2JycEEK",
        "outputId": "450a9ca2-37cd-4af3-bc18-ab136bed2e97"
      },
      "execution_count": null,
      "outputs": [
        {
          "output_type": "stream",
          "name": "stdout",
          "text": [
            "+--------------------+----+\n",
            "|            features|medv|\n",
            "+--------------------+----+\n",
            "|[0.00632,18.0,2.3...|24.0|\n",
            "|[0.02731,0.0,7.07...|21.6|\n",
            "|[0.02729,0.0,7.07...|34.7|\n",
            "|[0.03237,0.0,2.18...|33.4|\n",
            "|[0.06905,0.0,2.18...|36.2|\n",
            "|[0.02985,0.0,2.18...|28.7|\n",
            "|[0.08829,12.5,7.8...|22.9|\n",
            "|[0.14455,12.5,7.8...|27.1|\n",
            "|[0.21124,12.5,7.8...|16.5|\n",
            "|[0.17004,12.5,7.8...|18.9|\n",
            "|[0.22489,12.5,7.8...|15.0|\n",
            "|[0.11747,12.5,7.8...|18.9|\n",
            "|[0.09378,12.5,7.8...|21.7|\n",
            "|[0.62976,0.0,8.14...|20.4|\n",
            "|[0.63796,0.0,8.14...|18.2|\n",
            "|[0.62739,0.0,8.14...|19.9|\n",
            "|[1.05393,0.0,8.14...|23.1|\n",
            "|[0.7842,0.0,8.14,...|17.5|\n",
            "|[0.80271,0.0,8.14...|20.2|\n",
            "|[0.7258,0.0,8.14,...|18.2|\n",
            "+--------------------+----+\n",
            "only showing top 20 rows\n",
            "\n"
          ]
        }
      ]
    },
    {
      "cell_type": "code",
      "source": [
        "#Q4 -- Standardising features\n",
        "from pyspark.ml.feature import StandardScaler\n",
        "\n",
        "# Initialize StandardScaler\n",
        "scaler = StandardScaler(inputCol=\"features\", outputCol=\"scaledFeatures\", withStd=True, withMean=True)\n",
        "\n",
        "# Fit the StandardScaler on the data\n",
        "scaler_model = scaler.fit(assembled_boston)\n",
        "\n",
        "# Transform the data to apply standardization\n",
        "scaled_boston = scaler_model.transform(assembled_boston)\n",
        "\n",
        "# Show the scaled DataFrame\n",
        "scaled_boston.select(\"scaledFeatures\", \"medv\").show()"
      ],
      "metadata": {
        "colab": {
          "base_uri": "https://localhost:8080/"
        },
        "id": "VtWWDLL6mfQs",
        "outputId": "f745f554-adca-4a2e-f35c-e1eec639a57b"
      },
      "execution_count": null,
      "outputs": [
        {
          "output_type": "stream",
          "name": "stdout",
          "text": [
            "+--------------------+----+\n",
            "|      scaledFeatures|medv|\n",
            "+--------------------+----+\n",
            "|[-0.4193669292132...|24.0|\n",
            "|[-0.4169266699640...|21.6|\n",
            "|[-0.4169289951277...|34.7|\n",
            "|[-0.4163384035610...|33.4|\n",
            "|[-0.4120740534296...|36.2|\n",
            "|[-0.4166313741807...|28.7|\n",
            "|[-0.4098372459997...|22.9|\n",
            "|[-0.4032965606564...|27.1|\n",
            "|[-0.3955433024705...|16.5|\n",
            "|[-0.4003331395864...|18.9|\n",
            "|[-0.3939563782803...|15.0|\n",
            "|[-0.4064448322365...|18.9|\n",
            "|[-0.4091989885782...|21.7|\n",
            "|[-0.3468869279616...|20.4|\n",
            "|[-0.3459336108657...|18.2|\n",
            "|[-0.3471624598539...|19.9|\n",
            "|[-0.2975736947220...|23.1|\n",
            "|[-0.3289320142677...|17.5|\n",
            "|[-0.3267800753110...|20.2|\n",
            "|[-0.3357214921214...|18.2|\n",
            "+--------------------+----+\n",
            "only showing top 20 rows\n",
            "\n"
          ]
        }
      ]
    },
    {
      "cell_type": "code",
      "source": [
        "#Q5 -- Training the model for 2 PCA\n",
        "\n",
        "from pyspark.ml.feature import PCA\n",
        "\n",
        "#Initialize PCA\n",
        "pca = PCA(k=2, inputCol=\"scaledFeatures\", outputCol=\"pcaFeatures\")\n",
        "\n",
        "#Fit the PCA model on the scaled data\n",
        "pca_model = pca.fit(scaled_boston)\n",
        "\n",
        "#Transform the data to apply PCA\n",
        "pca_boston = pca_model.transform(scaled_boston)\n",
        "\n",
        "#Show the transformed DataFrame\n",
        "pca_boston.select(\"pcaFeatures\").show(truncate=False)\n"
      ],
      "metadata": {
        "colab": {
          "base_uri": "https://localhost:8080/"
        },
        "id": "AGBsExHbfxc7",
        "outputId": "acf9f051-6565-454e-e4a5-3f133ee9a23a"
      },
      "execution_count": null,
      "outputs": [
        {
          "output_type": "stream",
          "name": "stdout",
          "text": [
            "+-------------------------------------------+\n",
            "|pcaFeatures                                |\n",
            "+-------------------------------------------+\n",
            "|[2.096223030238583,0.7723484263420728]     |\n",
            "|[1.4558109894474212,0.5913999518264818]    |\n",
            "|[2.0725465519481854,0.5990465781004481]    |\n",
            "|[2.6089217588643487,-0.0068638262975736246]|\n",
            "|[2.4557547719310775,0.09761534604617053]   |\n",
            "|[2.2126618431927714,-0.009477632593783855] |\n",
            "|[1.35753765586535,0.34952629171413435]     |\n",
            "|[0.8412121417133108,0.5772284930996238]    |\n",
            "|[0.1797503956482866,0.3421795279689564]    |\n",
            "|[1.0731221380356935,0.3158888209594483]    |\n",
            "|[0.9085124527199482,0.507249715066528]     |\n",
            "|[1.2424255472222598,0.41269090875213493]   |\n",
            "|[1.4614510493263662,-0.012006699444729275] |\n",
            "|[0.7350469457293151,-0.12716913436301377]  |\n",
            "|[0.35966159252452445,0.13115034693282498]  |\n",
            "|[0.7193471910955812,-0.1811649215724927]   |\n",
            "|[1.099688318376697,-0.48003918978948595]   |\n",
            "|[0.1505639748370785,0.0777346044402311]    |\n",
            "|[0.350220266837993,-0.6842383567804871]    |\n",
            "|[0.3033099967097484,0.01150835200983245]   |\n",
            "+-------------------------------------------+\n",
            "only showing top 20 rows\n",
            "\n"
          ]
        }
      ]
    },
    {
      "cell_type": "code",
      "source": [
        "#Q6 --- Collecting data in numpy array and converting into Pandas dataframe\n",
        "\n",
        "#Collect PCA features into a NumPy array\n",
        "pca_result = np.array(pca_boston.select(\"pcaFeatures\").rdd.map(lambda row: row.pcaFeatures.toArray()).collect())\n",
        "\n",
        "#Convert NumPy array to Pandas DataFrame\n",
        "pca_pd_df = pd.DataFrame(pca_result, columns=[\"PC1\", \"PC2\"])\n",
        "\n",
        "#Display the Pandas DataFrame\n",
        "print(pca_pd_df.head())"
      ],
      "metadata": {
        "colab": {
          "base_uri": "https://localhost:8080/"
        },
        "id": "Ll_FKzhPnV20",
        "outputId": "16776d09-441b-44bf-b5e2-81527e46a9fc"
      },
      "execution_count": null,
      "outputs": [
        {
          "output_type": "stream",
          "name": "stdout",
          "text": [
            "        PC1       PC2\n",
            "0  2.096223  0.772348\n",
            "1  1.455811  0.591400\n",
            "2  2.072547  0.599047\n",
            "3  2.608922 -0.006864\n",
            "4  2.455755  0.097615\n"
          ]
        }
      ]
    },
    {
      "cell_type": "code",
      "source": [
        "#Q7 -- Knowing that pca_pd_df contains PC1 and PC2 columns\n",
        "plt.scatter(pca_pd_df[\"PC1\"], pca_pd_df[\"PC2\"])\n",
        "plt.xlabel(\"Principal Component 1\")\n",
        "plt.ylabel(\"Principal Component 2\")\n",
        "plt.title(\"PCA of Boston Housing Dataset\")\n",
        "plt.show()"
      ],
      "metadata": {
        "colab": {
          "base_uri": "https://localhost:8080/",
          "height": 472
        },
        "id": "pH6pRvmaot2J",
        "outputId": "a804a793-1998-4d8e-b828-5ce3892b8e70"
      },
      "execution_count": null,
      "outputs": [
        {
          "output_type": "display_data",
          "data": {
            "text/plain": [
              "<Figure size 640x480 with 1 Axes>"
            ],
            "image/png": "[encoded data removed]"
          },
          "metadata": {}
        }
      ]
    },
    {
      "cell_type": "code",
      "source": [
        "#Q8 --- Vectorizing the features and target together for model development.\n",
        "#Select relevant columns for model development\n",
        "data = pca_boston.select(\"pcaFeatures\", \"medv\").withColumnRenamed(\"pcaFeatures\", \"features\")\n",
        "\n",
        "#Initialize VectorAssembler\n",
        "vector_assembler = VectorAssembler(inputCols=[\"features\"], outputCol=\"features_vector\")\n",
        "\n",
        "#Vectorize features and target together\n",
        "vector_data = vector_assembler.transform(data)\n",
        "\n",
        "#Display the transformed DataFrame\n",
        "vector_data.show(truncate=False)"
      ],
      "metadata": {
        "colab": {
          "base_uri": "https://localhost:8080/"
        },
        "id": "1iq-gfJ5pInw",
        "outputId": "e687f25a-d00d-485f-b13d-ad00ae55d81d"
      },
      "execution_count": null,
      "outputs": [
        {
          "output_type": "stream",
          "name": "stdout",
          "text": [
            "+-------------------------------------------+----+-------------------------------------------+\n",
            "|features                                   |medv|features_vector                            |\n",
            "+-------------------------------------------+----+-------------------------------------------+\n",
            "|[2.096223030238583,0.7723484263420728]     |24.0|[2.096223030238583,0.7723484263420728]     |\n",
            "|[1.4558109894474212,0.5913999518264818]    |21.6|[1.4558109894474212,0.5913999518264818]    |\n",
            "|[2.0725465519481854,0.5990465781004481]    |34.7|[2.0725465519481854,0.5990465781004481]    |\n",
            "|[2.6089217588643487,-0.0068638262975736246]|33.4|[2.6089217588643487,-0.0068638262975736246]|\n",
            "|[2.4557547719310775,0.09761534604617053]   |36.2|[2.4557547719310775,0.09761534604617053]   |\n",
            "|[2.2126618431927714,-0.009477632593783855] |28.7|[2.2126618431927714,-0.009477632593783855] |\n",
            "|[1.35753765586535,0.34952629171413435]     |22.9|[1.35753765586535,0.34952629171413435]     |\n",
            "|[0.8412121417133108,0.5772284930996238]    |27.1|[0.8412121417133108,0.5772284930996238]    |\n",
            "|[0.1797503956482866,0.3421795279689564]    |16.5|[0.1797503956482866,0.3421795279689564]    |\n",
            "|[1.0731221380356935,0.3158888209594483]    |18.9|[1.0731221380356935,0.3158888209594483]    |\n",
            "|[0.9085124527199482,0.507249715066528]     |15.0|[0.9085124527199482,0.507249715066528]     |\n",
            "|[1.2424255472222598,0.41269090875213493]   |18.9|[1.2424255472222598,0.41269090875213493]   |\n",
            "|[1.4614510493263662,-0.012006699444729275] |21.7|[1.4614510493263662,-0.012006699444729275] |\n",
            "|[0.7350469457293151,-0.12716913436301377]  |20.4|[0.7350469457293151,-0.12716913436301377]  |\n",
            "|[0.35966159252452445,0.13115034693282498]  |18.2|[0.35966159252452445,0.13115034693282498]  |\n",
            "|[0.7193471910955812,-0.1811649215724927]   |19.9|[0.7193471910955812,-0.1811649215724927]   |\n",
            "|[1.099688318376697,-0.48003918978948595]   |23.1|[1.099688318376697,-0.48003918978948595]   |\n",
            "|[0.1505639748370785,0.0777346044402311]    |17.5|[0.1505639748370785,0.0777346044402311]    |\n",
            "|[0.350220266837993,-0.6842383567804871]    |20.2|[0.350220266837993,-0.6842383567804871]    |\n",
            "|[0.3033099967097484,0.01150835200983245]   |18.2|[0.3033099967097484,0.01150835200983245]   |\n",
            "+-------------------------------------------+----+-------------------------------------------+\n",
            "only showing top 20 rows\n",
            "\n"
          ]
        }
      ]
    },
    {
      "cell_type": "code",
      "source": [
        "#Q9 --- Train and Test\n",
        "#Split dataset into training and testing sets\n",
        "train_data, test_data = vector_data.randomSplit([0.8, 0.2], seed=1234)\n",
        "\n",
        "#Display the count of records in each set\n",
        "print(\"Training Dataset Count: \" + str(train_data.count()))\n",
        "print(\"Testing Dataset Count: \" + str(test_data.count()))"
      ],
      "metadata": {
        "colab": {
          "base_uri": "https://localhost:8080/"
        },
        "id": "cg9wpFa6p1uz",
        "outputId": "133c8142-25c2-49aa-94a9-81959b208cc6"
      },
      "execution_count": null,
      "outputs": [
        {
          "output_type": "stream",
          "name": "stdout",
          "text": [
            "Training Dataset Count: 395\n",
            "Testing Dataset Count: 111\n"
          ]
        }
      ]
    },
    {
      "cell_type": "code",
      "source": [
        "#Q10 --- Fit model for linear regression\n",
        "\n",
        "#Initialize Linear Regression\n",
        "lr = LinearRegression(featuresCol=\"features_vector\", labelCol=\"medv\")\n",
        "\n",
        "#Fit the model on the training data\n",
        "lr_model = lr.fit(train_data)\n",
        "\n",
        "#Q11 -- Finding coefficients and intercept\n",
        "#Print the coefficients and intercept\n",
        "print(f\"Coefficients: {lr_model.coefficients}\")\n",
        "print(f\"Intercept: {lr_model.intercept}\")"
      ],
      "metadata": {
        "colab": {
          "base_uri": "https://localhost:8080/"
        },
        "id": "7H2-ArNQqHKu",
        "outputId": "144a3f66-9c70-4453-c89f-9f3145c5521d"
      },
      "execution_count": null,
      "outputs": [
        {
          "output_type": "stream",
          "name": "stdout",
          "text": [
            "Coefficients: [2.3733887107235767,2.474159440164664]\n",
            "Intercept: 22.333530965296152\n"
          ]
        }
      ]
    },
    {
      "cell_type": "code",
      "source": [
        "#Q12 --- Evaluating for test dataset\n",
        "test_results = lr_model.evaluate(test_data)\n",
        "\n",
        "#Print Root Mean Squared Error (RMSE) and R-squared (R2)\n",
        "print(f\"RMSE: {test_results.rootMeanSquaredError}\")\n",
        "print(f\"R2: {test_results.r2}\")\n"
      ],
      "metadata": {
        "colab": {
          "base_uri": "https://localhost:8080/"
        },
        "id": "Z_qpealSqc-K",
        "outputId": "758b0ecb-ceaf-456e-b8c2-f6d70176595d"
      },
      "execution_count": null,
      "outputs": [
        {
          "output_type": "stream",
          "name": "stdout",
          "text": [
            "RMSE: 7.707455403397243\n",
            "R2: 0.28694466214941095\n"
          ]
        }
      ]
    },
    {
      "cell_type": "code",
      "source": [
        "#Q13 --- Further steps\n",
        "#a. Residual Analysis\n",
        "\n",
        "from pyspark.sql import SparkSession\n",
        "from pyspark.sql.functions import col\n",
        "import matplotlib.pyplot as plt\n",
        "\n",
        "#Calculate residuals\n",
        "predictions = lr_model.transform(test_data)  # Assuming lr_model is already trained\n",
        "\n",
        "#Calculate residuals\n",
        "residuals = predictions.withColumn(\"residual\", col(\"medv\") - col(\"prediction\"))\n",
        "\n",
        "#Convert residuals DataFrame to Pandas DataFrame for analysis\n",
        "residuals_pd = residuals.select(\"residual\").toPandas()\n",
        "\n",
        "#Summary statistics of residuals\n",
        "print(residuals_pd.describe())\n",
        "\n",
        "#Plot residuals as Histogram\n",
        "plt.figure(figsize=(10, 6))\n",
        "plt.hist(residuals_pd[\"residual\"], bins=30, edgecolor='k', alpha=0.7)\n",
        "plt.xlabel(\"Residuals\")\n",
        "plt.ylabel(\"Frequency\")\n",
        "plt.title(\"Histogram of Residuals\")\n",
        "plt.grid(True)\n",
        "plt.show()\n"
      ],
      "metadata": {
        "colab": {
          "base_uri": "https://localhost:8080/",
          "height": 720
        },
        "id": "q2ZcAqdsqwcd",
        "outputId": "2263ea05-016c-41da-c533-352ce6270875"
      },
      "execution_count": null,
      "outputs": [
        {
          "output_type": "stream",
          "name": "stdout",
          "text": [
            "         residual\n",
            "count  111.000000\n",
            "mean     0.908408\n",
            "std      7.688446\n",
            "min    -12.460488\n",
            "25%     -4.550686\n",
            "50%     -0.819534\n",
            "75%      4.405046\n",
            "max     34.428175\n"
          ]
        },
        {
          "output_type": "display_data",
          "data": {
            "text/plain": [
              "<Figure size 1000x600 with 1 Axes>"
            ],
            "image/png": "[encoded data removed]"
          },
          "metadata": {}
        }
      ]
    },
    {
      "cell_type": "code",
      "source": [
        "#Q13 b) Additional Analysis using Prediction vs Actual\n",
        "\n",
        "import matplotlib.pyplot as plt\n",
        "import pandas as pd  # Import Pandas explicitly\n",
        "\n",
        "predictions_pd = predictions.select(\"medv\", \"prediction\").toPandas()\n",
        "\n",
        "#Plot predictions vs actual\n",
        "plt.figure(figsize=(8, 6))\n",
        "plt.scatter(predictions_pd[\"medv\"], predictions_pd[\"prediction\"], alpha=0.5)\n",
        "plt.xlabel(\"Actual Prices\")\n",
        "plt.ylabel(\"Predicted Prices\")\n",
        "plt.title(\"Actual vs Predicted Prices\")\n",
        "plt.grid(True)\n",
        "plt.show()\n"
      ],
      "metadata": {
        "colab": {
          "base_uri": "https://localhost:8080/",
          "height": 564
        },
        "id": "GafZ0oj-rcHX",
        "outputId": "eed67073-df46-4367-9fc4-ab35c8d55cb6"
      },
      "execution_count": null,
      "outputs": [
        {
          "output_type": "display_data",
          "data": {
            "text/plain": [
              "<Figure size 800x600 with 1 Axes>"
            ],
            "image/png": "[encoded data removed]"
          },
          "metadata": {}
        }
      ]
    }
  ]
}